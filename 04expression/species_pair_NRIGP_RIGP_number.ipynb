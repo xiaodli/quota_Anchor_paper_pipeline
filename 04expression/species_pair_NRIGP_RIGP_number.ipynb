{
 "cells": [
  {
   "cell_type": "code",
   "execution_count": 1,
   "id": "a0224610-8bf4-4dbf-84fa-1687fce44622",
   "metadata": {},
   "outputs": [],
   "source": [
    "def read_collinearity(file, min_block_length):\n",
    "    total_info = []\n",
    "    block_info = []\n",
    "    total_pre_df_core_record_list = []\n",
    "    flag = True\n",
    "    with open(file) as f:\n",
    "        next(f)\n",
    "        next(f)\n",
    "        for line in f:\n",
    "            if line.startswith('#'):\n",
    "                # append recent block_info\n",
    "                if block_info:\n",
    "                    total_info.append(block_info)\n",
    "                    block_info = []\n",
    "\n",
    "                header_record_list = line.split()\n",
    "                # get block length\n",
    "                block_length = int(header_record_list[2].split(\"=\")[1])\n",
    "                if block_length < int(min_block_length):\n",
    "                    flag = False\n",
    "                    continue\n",
    "                else:\n",
    "                    flag = True\n",
    "                    # get block direction\n",
    "                    block_direction = header_record_list[5]\n",
    "                    if block_direction == \"POSITIVE\":\n",
    "                        block_direction = \"+\"\n",
    "                    if block_direction == \"NEGATIVE\":\n",
    "                        block_direction = \"-\"\n",
    "                    block_info.append(block_direction)\n",
    "                    block_info.append(block_length)\n",
    "            else:\n",
    "                # length >= min_block_length\n",
    "                if flag:\n",
    "                    new_core_record_list = line.split()\n",
    "                    if new_core_record_list[-2] == block_direction:\n",
    "                        judge_direction = \"same\"\n",
    "                    else:\n",
    "                        judge_direction = \"inverse\"\n",
    "                    new_core_record_list[-2] = judge_direction\n",
    "                    total_pre_df_core_record_list.append(tuple(new_core_record_list))\n",
    "\n",
    "        if block_info:\n",
    "            total_info.append(block_info)\n",
    "    return total_info, set(total_pre_df_core_record_list)"
   ]
  },
  {
   "cell_type": "code",
   "execution_count": 11,
   "id": "958965d1-394c-4187-9d97-1230cedc7da1",
   "metadata": {},
   "outputs": [
    {
     "name": "stdout",
     "output_type": "stream",
     "text": [
      "/media/dell/E/Suppmentary_data/04expression/sb2_zm1.collinearity\n",
      "1005\n",
      "21779\n",
      "/media/dell/E/Suppmentary_data/04expression/zgc1_sb3.collinearity\n",
      "2993\n",
      "34421\n",
      "/media/dell/E/Suppmentary_data/04expression/zgc2_zm3.collinearity\n",
      "4668\n",
      "39276\n"
     ]
    }
   ],
   "source": [
    "import pandas as pd\n",
    "import random\n",
    "def split_inv_normal_to_pair(df):\n",
    "    same_direction_short_groups = df.query('`same_or_inverse` == \"same\"')\n",
    "    same_query = same_direction_short_groups.loc[:, \"query_name\"].to_list()\n",
    "    same_ref = same_direction_short_groups.loc[:, \"ref_name\"].to_list()\n",
    "    same = list(zip(same_query, same_ref))\n",
    "\n",
    "    inv_direction = df.query('`same_or_inverse` == \"inverse\"')\n",
    "    inv_query = inv_direction.loc[:, \"query_name\"].to_list()\n",
    "    inv_ref = inv_direction.loc[:, \"ref_name\"].to_list()\n",
    "    inv = list(zip(inv_query, inv_ref))\n",
    "    random.shuffle(same)\n",
    "    random.shuffle(inv)\n",
    "    return same, inv\n",
    "\n",
    "file_lists = [\"/media/dell/E/Suppmentary_data/04expression/sb2_zm1.collinearity\", \"/media/dell/E/Suppmentary_data/04expression/zgc1_sb3.collinearity\", \"/media/dell/E/Suppmentary_data/04expression/zgc2_zm3.collinearity\"]\n",
    "for file in file_lists:\n",
    "    _, recent_info = read_collinearity(file, 5)\n",
    "    recent_df = pd.DataFrame(recent_info)\n",
    "    recent_df.columns = [\"ref_name\", \"ref_chr\", \"ref_order\", \"ref_start\", \"ref_end\",\n",
    "                                             \"query_name\", \"query_chr\", \"query_order\", \"query_start\", \"query_end\",\n",
    "                                             \"same_or_inverse\", \"score\"]\n",
    "    recent_df = recent_df[[\"query_name\", \"ref_name\", \"same_or_inverse\"]]\n",
    "\n",
    "    same, inv = split_inv_normal_to_pair(recent_df)\n",
    "    print(file)\n",
    "    print(len(inv))\n",
    "    print(len(same))"
   ]
  },
  {
   "cell_type": "code",
   "execution_count": 9,
   "id": "fdc7f91e-759b-4ff6-bb10-69762e9bdf7d",
   "metadata": {},
   "outputs": [
    {
     "data": {
      "text/plain": [
       "22784"
      ]
     },
     "execution_count": 9,
     "metadata": {},
     "output_type": "execute_result"
    }
   ],
   "source": [
    "1005+21779"
   ]
  },
  {
   "cell_type": "code",
   "execution_count": null,
   "id": "76806d20-a09f-4049-b085-56548ae9865f",
   "metadata": {},
   "outputs": [],
   "source": []
  }
 ],
 "metadata": {
  "kernelspec": {
   "display_name": "Python 3 (ipykernel)",
   "language": "python",
   "name": "python3"
  },
  "language_info": {
   "codemirror_mode": {
    "name": "ipython",
    "version": 3
   },
   "file_extension": ".py",
   "mimetype": "text/x-python",
   "name": "python",
   "nbconvert_exporter": "python",
   "pygments_lexer": "ipython3",
   "version": "3.13.0"
  }
 },
 "nbformat": 4,
 "nbformat_minor": 5
}
